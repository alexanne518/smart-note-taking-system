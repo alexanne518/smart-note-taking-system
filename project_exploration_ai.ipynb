{
 "cells": [
  {
   "cell_type": "code",
   "execution_count": null,
   "metadata": {},
   "outputs": [],
   "source": [
    "#install the ai model\n",
    "!pip install sentence-transformers"
   ]
  },
  {
   "cell_type": "code",
   "execution_count": null,
   "metadata": {},
   "outputs": [],
   "source": [
    "#import required libraries\n",
    "from sentence_transformers import SentenceTransformer\n",
    "import numpy as np\n",
    "\n",
    "#tp make sure everything works\n",
    "print('Import successfull')"
   ]
  },
  {
   "cell_type": "code",
   "execution_count": 2,
   "metadata": {},
   "outputs": [
    {
     "name": "stdout",
     "output_type": "stream",
     "text": [
      "created 8 notes\n"
     ]
    }
   ],
   "source": [
    "#creating our notes\n",
    "notes = [\n",
    "    \"Python lists are mutable sequences used to store collections of items. They can contain mixed types and are defined using square brackets.\",\n",
    "    \"Lists in Python can be modified after creation. Common operations include append(), extend(), and insert().\",\n",
    "    \"Data structures are fundamental building blocks in programming. They help organize and store data efficiently.\",\n",
    "    \"Arrays in NumPy provide efficient storage and operations for numerical data. They are widely used in scientific computing.\",\n",
    "    \"Object-oriented programming in Python uses classes and objects. Classes define the structure and behavior of objects.\",\n",
    "    \"The pandas library is built on top of NumPy and provides powerful data manipulation tools through DataFrames.\",\n",
    "    \"Version control with Git helps track changes in code. Common commands include commit, push, and pull.\",\n",
    "    \"Python functions are defined using the def keyword. They can accept parameters and return values.\",\n",
    "]\n",
    "\n",
    "#print the number of notes \n",
    "print(f'created {len(notes)} notes')"
   ]
  },
  {
   "cell_type": "code",
   "execution_count": null,
   "metadata": {},
   "outputs": [],
   "source": [
    "#testing, print each note with its len\n",
    "for i, note in enumerate(notes):\n",
    "    print(f'\\nNote {i+1} (length: {len(note)} charaters):')\n",
    "    print(f'{'-'*50}')\n",
    "    print(note)"
   ]
  },
  {
   "cell_type": "code",
   "execution_count": 4,
   "metadata": {},
   "outputs": [
    {
     "name": "stdout",
     "output_type": "stream",
     "text": [
      "Average words per note:  16.8\n",
      "shortest note: 15 words\n",
      "Longest note: 22 words\n"
     ]
    }
   ],
   "source": [
    "#understanding note charateristics\n",
    "#have some notes about related concepts\n",
    "#they dont all have the same len\n",
    "#notes about similar topic but diff angles\n",
    "\n",
    "#quick analysis of the notes\n",
    "note_lengths = [len(note.split()) for note in notes]\n",
    "\n",
    "print(f'Average words per note: {sum(note_lengths)/len(note_lengths): .1f}')\n",
    "print(f'shortest note: {min(note_lengths)} words')\n",
    "print(f'Longest note: {max(note_lengths)} words')\n"
   ]
  },
  {
   "cell_type": "code",
   "execution_count": 6,
   "metadata": {},
   "outputs": [
    {
     "name": "stdout",
     "output_type": "stream",
     "text": [
      "model loaded successfully\n"
     ]
    }
   ],
   "source": [
    "#load the sbert model\n",
    "\n",
    "from sentence_transformers import SentenceTransformer\n",
    "\n",
    "model = SentenceTransformer('all-MiniLM-L6-v2')\n",
    "\n",
    "print('model loaded successfully')"
   ]
  },
  {
   "cell_type": "code",
   "execution_count": 10,
   "metadata": {},
   "outputs": [
    {
     "name": "stdout",
     "output_type": "stream",
     "text": [
      "embedding shape: (384,)\n",
      "first 5 values: [0.07155244 0.06848026 0.00660331 0.10176962 0.01112231]\n"
     ]
    }
   ],
   "source": [
    "#create en embedding for a simple sentance\n",
    "#embedding is a list of numebrs, convert the list into numebrs\n",
    "test_setence = 'this is a test sentence'\n",
    "embedding = model.encode(test_setence)\n",
    "\n",
    "#loo at the embedding properties\n",
    "print(f'embedding shape: {embedding.shape}')\n",
    "print(f'first 5 values: {embedding [:5]}')\n"
   ]
  },
  {
   "cell_type": "code",
   "execution_count": 11,
   "metadata": {},
   "outputs": [
    {
     "name": "stdout",
     "output_type": "stream",
     "text": [
      "number of e,beddings : 3\n",
      "shape of each embedding: (384,)\n"
     ]
    }
   ],
   "source": [
    "#createe embedding for a few test sentences\n",
    "test_sentences = [\n",
    "    \"Python is a programming language\",\n",
    "    \"Programming languages are used to write software\",\n",
    "    \"Pythons are large snakes\"\n",
    "]\n",
    "\n",
    "#gererate embeddings for all snetences at once\n",
    "embeddings = model.encode(test_sentences)\n",
    "\n",
    "print(f'number of e,beddings : {len(embeddings)}')\n",
    "print(f'shape of each embedding: {embeddings[0].shape}')"
   ]
  },
  {
   "cell_type": "code",
   "execution_count": 12,
   "metadata": {},
   "outputs": [
    {
     "name": "stdout",
     "output_type": "stream",
     "text": [
      "\n",
      "similarity between: \n",
      "'Python is a programming language' and 'Programming languages are used to write software': \n",
      "0.657\n",
      "\n",
      "similarity between: \n",
      "'Python is a programming language' and 'Pythons are large snakes': \n",
      "0.497\n",
      "\n",
      "similarity between: \n",
      "'Programming languages are used to write software' and 'Pythons are large snakes': \n",
      "0.119\n"
     ]
    }
   ],
   "source": [
    "#testing similarity\n",
    "\n",
    "import numpy as np\n",
    "\n",
    "#cal the similaties between sentences\n",
    "def calculate_similarity(emb1, emb2):\n",
    "    return np.dot(emb1, emb2) / (np.linalg.norm(emb1)*  np.linalg.norm(emb2))\n",
    "\n",
    "#get similarites between all pairs\n",
    "for i in range (len(test_sentences)):\n",
    "    for j in range(i +1, len(test_sentences)):\n",
    "        similarity = calculate_similarity(embeddings[i], embeddings[j])\n",
    "        print(f\"\\nsimilarity between: \\n'{test_sentences[i]}' and '{test_sentences[j]}': \\n{similarity:.3f}\")\n",
    "    "
   ]
  },
  {
   "cell_type": "code",
   "execution_count": 13,
   "metadata": {},
   "outputs": [
    {
     "name": "stdout",
     "output_type": "stream",
     "text": [
      "create embeddings for 8 notes\n",
      "each embedding has shape: (384,)\n"
     ]
    }
   ],
   "source": [
    "#create embedding for all our notes\n",
    "\n",
    "note_embeddings = model.encode(notes)\n",
    "\n",
    "print(f'create embeddings for {len(notes)} notes')\n",
    "print(f'each embedding has shape: {note_embeddings[0].shape}')"
   ]
  },
  {
   "cell_type": "code",
   "execution_count": 14,
   "metadata": {},
   "outputs": [],
   "source": [
    "#create shearch function\n",
    "\n",
    "def search_notes (query, top_k=3):\n",
    "    #convert search query to embedding\n",
    "    query_embedding = model.encode(query)\n",
    "\n",
    "    #calculate the similirities with all the notes\n",
    "    similarities = np.dot(note_embeddings, query_embedding) / (\n",
    "         np.linalg.norm(note_embeddings, axis=1) * np.linalg.norm(query_embedding)\n",
    "    )\n",
    "\n",
    "    #get top k matches\n",
    "    top_idx = np.argsort(similarities)[::-1][:top_k]\n",
    "\n",
    "    #list of dictionaries\n",
    "    results = []\n",
    "    for idx in top_idx:\n",
    "        results.append({\n",
    "            'note': notes[idx],\n",
    "            'similarity': similarities[idx]\n",
    "        })\n",
    "\n",
    "    return results\n",
    "\n",
    "#code calculates how similar each not is to the sreached query"
   ]
  },
  {
   "cell_type": "code",
   "execution_count": 15,
   "metadata": {},
   "outputs": [
    {
     "name": "stdout",
     "output_type": "stream",
     "text": [
      "\n",
      " search query: 'How do Python lists work?'\n",
      "--------------------------------------------------\n",
      "\n",
      "1. match (79.09% similar):\n",
      "Python lists are mutable sequences used to store collections of items. They can contain mixed types and are defined using square brackets.\n",
      "\n",
      "2. match (72.10% similar):\n",
      "Lists in Python can be modified after creation. Common operations include append(), extend(), and insert().\n",
      "\n",
      "3. match (52.82% similar):\n",
      "Object-oriented programming in Python uses classes and objects. Classes define the structure and behavior of objects.\n",
      "\n",
      " search query: 'Tell me about data structures'\n",
      "--------------------------------------------------\n",
      "\n",
      "1. match (84.95% similar):\n",
      "Data structures are fundamental building blocks in programming. They help organize and store data efficiently.\n",
      "\n",
      "2. match (36.30% similar):\n",
      "Object-oriented programming in Python uses classes and objects. Classes define the structure and behavior of objects.\n",
      "\n",
      "3. match (34.01% similar):\n",
      "Arrays in NumPy provide efficient storage and operations for numerical data. They are widely used in scientific computing.\n",
      "\n",
      " search query: 'What is object oriented programming?'\n",
      "--------------------------------------------------\n",
      "\n",
      "1. match (68.08% similar):\n",
      "Object-oriented programming in Python uses classes and objects. Classes define the structure and behavior of objects.\n",
      "\n",
      "2. match (42.41% similar):\n",
      "Data structures are fundamental building blocks in programming. They help organize and store data efficiently.\n",
      "\n",
      "3. match (25.97% similar):\n",
      "Version control with Git helps track changes in code. Common commands include commit, push, and pull.\n"
     ]
    }
   ],
   "source": [
    "#test some searches\n",
    "#function to display searchs nicly\n",
    "def display_results(query, results):\n",
    "    print(f\"\\n search query: '{query}'\")\n",
    "    print(\"-\" * 50)\n",
    "\n",
    "    for i, r in enumerate(results, 1):\n",
    "        print(f\"\\n{i}. match ({r['similarity']:.2%} similar):\")\n",
    "        print(r['note'])  \n",
    "\n",
    "#demo\n",
    "queries = [\n",
    "    \"How do Python lists work?\",\n",
    "    \"Tell me about data structures\",\n",
    "    \"What is object oriented programming?\"\n",
    "]\n",
    "\n",
    "for query in queries:\n",
    "    results = search_notes(query)\n",
    "    display_results(query, results)"
   ]
  },
  {
   "cell_type": "code",
   "execution_count": null,
   "metadata": {},
   "outputs": [],
   "source": []
  }
 ],
 "metadata": {
  "kernelspec": {
   "display_name": "base",
   "language": "python",
   "name": "python3"
  },
  "language_info": {
   "codemirror_mode": {
    "name": "ipython",
    "version": 3
   },
   "file_extension": ".py",
   "mimetype": "text/x-python",
   "name": "python",
   "nbconvert_exporter": "python",
   "pygments_lexer": "ipython3",
   "version": "3.12.4"
  }
 },
 "nbformat": 4,
 "nbformat_minor": 2
}
